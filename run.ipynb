{
 "cells": [
  {
   "cell_type": "code",
   "execution_count": null,
   "metadata": {},
   "outputs": [],
   "source": [
    "!rm -rf ./* .*; git clone https://github.com/asnacarolina/wqewraidsfjawef.git .;\n"
   ]
  },
  {
   "cell_type": "code",
   "execution_count": null,
   "metadata": {},
   "outputs": [],
   "source": [
    "import torch\n",
    "from PIL import Image\n",
    "import numpy as np\n",
    "from RealESRGAN import RealESRGAN\n",
    "\n",
    "\n",
    "def upscale(image_path, imgtarget):\n",
    "    device = torch.device(\"cuda\" if torch.cuda.is_available() else \"cpu\")\n",
    "    print(device)\n",
    "    model = RealESRGAN(device, scale=2)\n",
    "    model.load_weights(\"weights/RealESRGAN_x2.pth\", download=True)\n",
    "    image = Image.open(image_path).convert(\"RGB\")\n",
    "    sr_image = model.predict(image)\n",
    "    sr_image.save(imgtarget)\n",
    "\n",
    "\n",
    "upscale(\"img.jpg\", \"img2.jpg\")"
   ]
  },
  {
   "cell_type": "markdown",
   "metadata": {},
   "source": [
    "!apt install -y libvulkan1 libgomp1 libgl1 ffmpeg\n",
    "!apt-get -y install libvulkan-dev\n",
    "!apt install -y libvulkan1 libgomp1 libgl1 ffmpeg > /dev/null;"
   ]
  }
 ],
 "metadata": {
  "language_info": {
   "name": "python"
  }
 },
 "nbformat": 4,
 "nbformat_minor": 2
}
